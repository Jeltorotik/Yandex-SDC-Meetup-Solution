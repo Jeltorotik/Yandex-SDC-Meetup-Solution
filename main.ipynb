{
 "cells": [
  {
   "cell_type": "code",
   "execution_count": 2,
   "id": "regional-wrapping",
   "metadata": {
    "scrolled": true
   },
   "outputs": [],
   "source": [
    "from utils import aStar, bfs_clusters, find_beacon"
   ]
  },
  {
   "cell_type": "code",
   "execution_count": 3,
   "id": "documented-report",
   "metadata": {},
   "outputs": [],
   "source": [
    "from PIL import Image \n",
    "import PIL \n",
    "import time\n",
    "\n",
    "import numpy as np\n",
    "import random\n",
    "from collections import deque\n",
    "import copy\n",
    "\n",
    "import matplotlib.pyplot as plt\n",
    "%matplotlib inline                "
   ]
  },
  {
   "cell_type": "code",
   "execution_count": 4,
   "id": "imposed-hunger",
   "metadata": {
    "scrolled": true
   },
   "outputs": [
    {
     "name": "stdout",
     "output_type": "stream",
     "text": [
      "3600 - чаевые\n",
      "1048576 - цена робота\n",
      "77777 - количество итераций\n",
      "467760 - Количество заказов\n",
      "CPU times: user 3.95 s, sys: 207 ms, total: 4.16 s\n",
      "Wall time: 4.19 s\n"
     ]
    }
   ],
   "source": [
    "%%time\n",
    "with open('tests/10', 'r') as f:\n",
    "    N, MaxTips, Cost = map(int, f.readline().split())\n",
    "    \n",
    "    board = []\n",
    "    IMG = []\n",
    "    for i in range(N):\n",
    "        line = f.readline().strip()\n",
    "        board.append(line)\n",
    "        line = line.replace(\"#\", \"1\")\n",
    "        line = line.replace(\".\", \"0\")\n",
    "        line = list(map(int, list(line)))\n",
    "        line = [[128, 128, 128] if i == 1 else [0, 0, 0] for i in line]\n",
    "        IMG.append(line) \n",
    "    \n",
    "    \n",
    "    \n",
    "    \n",
    "    #ORDERS:\n",
    "    raw_orders = []\n",
    "    T, D = map(int, f.readline().split())\n",
    "    for i in range(T):\n",
    "        k = int(f.readline())\n",
    "        for j in range(k):\n",
    "            x1, y1, x2, y2 = map(int, f.readline().split())\n",
    "            raw_orders.append([(x1 - 1, y1 - 1), (x2 - 1, y2 - 1)])\n",
    "        \n",
    "\n",
    "\n",
    "IMG = np.array(IMG, dtype=np.uint8)\n",
    "print(MaxTips, \"- чаевые\") \n",
    "print(Cost, \"- цена робота\")\n",
    "print(T, \"- количество итераций\")\n",
    "print(D, \"- Количество заказов\")\n",
    "\n",
    "#processing the map\n",
    "cells = set()\n",
    "for x in range(N):\n",
    "    for y in range(N):\n",
    "        if board[x][y] == \".\":\n",
    "            cells.add((x,y))  "
   ]
  },
  {
   "cell_type": "code",
   "execution_count": 5,
   "id": "raised-discrimination",
   "metadata": {},
   "outputs": [],
   "source": [
    "def draw_paths(start, clusters, cells, limit, IMG):\n",
    "    global imgs\n",
    "    imgs = [IMG]\n",
    "    \n",
    "    if start in clusters:\n",
    "        ###\n",
    "        img = copy.deepcopy(imgs[-1])\n",
    "        img[start[0]][start[1]] = [255, 0, 0]\n",
    "        imgs.append(img)\n",
    "        ###\n",
    "        return [\"\", start]\n",
    "    \n",
    "    used = dict()\n",
    "    used[start] = [None, \"s\"]\n",
    "    \n",
    "    q = deque()\n",
    "    q.append(start)\n",
    "    \n",
    "    counter = 0\n",
    "    while q:\n",
    "        x, y = q.popleft()\n",
    "        ###\n",
    "        img = copy.deepcopy(imgs[-1])\n",
    "        img[x][y] = [255, 0, 0]\n",
    "        imgs.append(img)\n",
    "        ###\n",
    "        \n",
    "        for nx, ny, direction in [(x, y-1, \"L\"), (x, y+1, \"R\"), (x-1, y, \"U\"), (x+1,y, \"D\")]:\n",
    "            next_cell = (nx, ny)\n",
    "            counter += 1\n",
    "            if limit and counter > limit:\n",
    "                return [None, None]\n",
    "            \n",
    "            if next_cell in cells and next_cell not in used:\n",
    "                used[next_cell] = [(x, y), direction]\n",
    "                q.append(next_cell)\n",
    "                \n",
    "    \n",
    "                if next_cell in clusters:\n",
    "                    backtrack = next_cell\n",
    "                    path = \"\"\n",
    "                    while used[backtrack][1] != \"s\":\n",
    "    \n",
    "                        path += used[backtrack][1]\n",
    "                        backtrack = used[backtrack][0]\n",
    "                    \n",
    "                    return [path[::-1], next_cell]\n",
    "    print(counter)\n",
    "    raise ValueError('No Path Found')"
   ]
  },
  {
   "cell_type": "markdown",
   "id": "micro-bunny",
   "metadata": {},
   "source": [
    "# Кластеры"
   ]
  },
  {
   "cell_type": "code",
   "execution_count": 6,
   "id": "destroyed-halifax",
   "metadata": {},
   "outputs": [],
   "source": [
    "import imageio\n",
    "from PIL import Image \n",
    "import PIL \n",
    "\n",
    "class Animation:\n",
    "    def __init__(self, IMG):\n",
    "        self.imgs = [copy.deepcopy(IMG)]\n",
    "        self.current = copy.deepcopy(IMG)\n",
    "    \n",
    "    def update(self):\n",
    "        #Adding the last img to the list of images\n",
    "        self.imgs.append(copy.deepcopy(self.current))\n",
    "    \n",
    "    def save_img(self, name):\n",
    "        image_png = Image.fromarray(self.current, \"RGB\") \n",
    "        image_png.save(f'{name}.png')\n",
    "    \n",
    "    def save_gif(self, name, dur = 0.1):\n",
    "        print(len(self.imgs))\n",
    "        new_imgs = []\n",
    "        for img in self.imgs:\n",
    "            new_imgs.append(img[150:850, 150:850])\n",
    "        \n",
    "        imageio.mimsave(f'{name}.gif', new_imgs, duration=dur)\n",
    "        \n",
    "        \n",
    "    def draw_points(self, points, color, updating = False):\n",
    "        for x, y in points:\n",
    "            self.current[x][y] = color\n",
    "            if updating:\n",
    "                self.update()\n",
    "                \n",
    "        \n",
    "        \n",
    "    \n",
    "    \n",
    "    def draw_big_point(self, point, color, updating = False):\n",
    "        x, y = point\n",
    "        for dx, dy in [[0, -1],[0,1],[1,0],[-1,0],[1,1],[1,-1],[-1,1],[-1,-1]]:\n",
    "            self.current[x + dx][y + dy] = color\n",
    "            self.current[x + dx*2][y + dy*2] = color\n",
    "            self.current[x + dx*3][y + dy*3] = color\n",
    "      \n",
    "            \n",
    "        if updating:\n",
    "            self.update()"
   ]
  },
  {
   "cell_type": "code",
   "execution_count": 7,
   "id": "specific-webcam",
   "metadata": {},
   "outputs": [
    {
     "name": "stdout",
     "output_type": "stream",
     "text": [
      "273\n",
      "99\n"
     ]
    }
   ],
   "source": [
    "import copy\n",
    "image = copy.deepcopy(IMG) \n",
    "orders_map = [[0] * N for _ in range(N)]\n",
    "\n",
    "for start, end in raw_orders:\n",
    "    x1, y1 = start\n",
    "    x2, y2 = end\n",
    "    orders_map[x1][y1] += 1\n",
    "    \n",
    "       \n",
    "\n",
    "\n",
    "raw_clusters = []\n",
    "for x in range(N):\n",
    "    for y in range(N):\n",
    "        if orders_map[x][y] > 0:\n",
    "            #if 120 < x < 670 and 300 < y < 700:\n",
    "                raw_clusters.append((x,y))\n",
    "\n",
    "random.shuffle(raw_clusters)\n",
    "print(len(raw_clusters))\n",
    "\n",
    "for x1,y1 in raw_clusters:\n",
    "    for x2, y2 in raw_clusters:\n",
    "        if [x1,y1] == [x2,y2]:\n",
    "            continue\n",
    "        if abs(x1 - x2) + abs(y1 - y2) <= 7:\n",
    "            if (x2, y2) in raw_clusters:\n",
    "                raw_clusters.remove((x2,y2))\n",
    "        \n",
    "raw_clusters = set(raw_clusters)        \n",
    "print(len(raw_clusters))\n",
    "\n",
    "\n",
    "\n",
    "#for point in raw_clusters:\n",
    "#    ani.draw_big_point()"
   ]
  },
  {
   "cell_type": "code",
   "execution_count": 8,
   "id": "several-occupation",
   "metadata": {},
   "outputs": [
    {
     "name": "stdout",
     "output_type": "stream",
     "text": [
      "CPU times: user 26.1 s, sys: 253 ms, total: 26.4 s\n",
      "Wall time: 26.5 s\n"
     ]
    }
   ],
   "source": [
    "%%time\n",
    "clusters = {cluster : {} for cluster in raw_clusters}\n",
    "for point in clusters.keys():\n",
    "    bfs_clusters(point, clusters, cells)"
   ]
  },
  {
   "cell_type": "code",
   "execution_count": 9,
   "id": "eligible-corner",
   "metadata": {},
   "outputs": [
    {
     "name": "stdout",
     "output_type": "stream",
     "text": [
      "100\n"
     ]
    }
   ],
   "source": [
    "#Creates nice gif for clusters\n",
    "\n",
    "draw = Animation(IMG)\n",
    "for point1 in clusters.keys():\n",
    "    \n",
    "    \n",
    "    for point2 in random.sample(clusters[point1].keys(), 1):\n",
    "        path = clusters[point1][point2]\n",
    "        draw.draw_points(path, [255, 0, 0])\n",
    "        \n",
    "        draw.draw_big_point(point2, [0, 255, 255])\n",
    "    draw.draw_big_point(point1, [0, 255, 255])\n",
    "    \n",
    "    for point3 in clusters.keys():\n",
    "        draw.draw_big_point(point3, [0, 255, 255])\n",
    "        if point3 == point1:\n",
    "            break\n",
    "    \n",
    "    draw.update()\n",
    "    \n",
    "draw.save_gif(\"images/clusters\")"
   ]
  },
  {
   "cell_type": "code",
   "execution_count": 10,
   "id": "tender-denial",
   "metadata": {},
   "outputs": [],
   "source": [
    "POINTS_D = {(0, -1) : \"L\",\n",
    "            (0, 1) : \"R\",\n",
    "            (1, 0) : \"D\",\n",
    "            (-1,0) : \"U\"}\n",
    "\n",
    "REVERSE_DIR = {\"D\" : \"U\",\n",
    "              \"U\" : \"D\",\n",
    "              \"R\" : \"L\",\n",
    "              \"L\" : \"R\"}\n",
    "\n",
    "\n",
    "def reverse_path(path):\n",
    "    #path = \"DDRRL\" -> \"UULLR\" -> \"RLLUU\"\n",
    "    rev_path = \"\"\n",
    "    for direction in path[::-1]:\n",
    "        rev_path += REVERSE_DIR[direction]\n",
    "    return rev_path"
   ]
  },
  {
   "cell_type": "code",
   "execution_count": 15,
   "id": "another-posting",
   "metadata": {},
   "outputs": [
    {
     "name": "stdout",
     "output_type": "stream",
     "text": [
      "CPU times: user 241 ms, sys: 15.9 ms, total: 256 ms\n",
      "Wall time: 258 ms\n"
     ]
    }
   ],
   "source": [
    "%%time\n",
    "CENTER = (480, 555)\n",
    "center_to_clusters = {point : \"\" for point in raw_clusters}\n",
    "clusters_to_center = {}\n",
    "\n",
    "\n",
    "\n",
    "bfs_clusters(CENTER, center_to_clusters, cells, center = True)"
   ]
  },
  {
   "cell_type": "code",
   "execution_count": 21,
   "id": "virtual-disclosure",
   "metadata": {},
   "outputs": [
    {
     "name": "stdout",
     "output_type": "stream",
     "text": [
      "100\n"
     ]
    }
   ],
   "source": [
    "#Drawing  \n",
    "YELLOW = [255, 255, 0]\n",
    "RED = [255, 0, 0]\n",
    "CYAN = [0, 255, 255]\n",
    "\n",
    "\n",
    "draw = Animation(IMG)\n",
    "\n",
    "points = list(center_to_clusters.keys())\n",
    "points.sort(key = lambda point: (abs(point[0] - CENTER[0]) + abs(point[1] - CENTER[1])) )\n",
    "for point in points:\n",
    "    path = center_to_clusters[point]\n",
    "    \n",
    "    draw.draw_points(path, RED)\n",
    "    draw.draw_big_point(point, CYAN)\n",
    "        \n",
    "    \n",
    "    draw.draw_big_point(CENTER, YELLOW, updating = True)\n",
    "    \n",
    "draw.save_gif(\"images/one_center\")"
   ]
  },
  {
   "cell_type": "code",
   "execution_count": null,
   "id": "certain-hampton",
   "metadata": {},
   "outputs": [],
   "source": [
    "#Turning points into path -> \"UDDLRLDRLL\"\n",
    "for point in center_to_clusters.keys():\n",
    "    point_path = center_to_clusters[point]\n",
    "    path = \"\"\n",
    "    for i in range(len(point_path) - 1):\n",
    "        x1, y1 = point_path[i]\n",
    "        x2, y2 = point_path[i + 1]\n",
    "        path += POINTS_D[(x2 - x1, y2 - y1)]\n",
    "    center_to_clusters[point] = reverse_path(path)\n",
    "    clusters_to_center[point] = path\n",
    "   "
   ]
  },
  {
   "cell_type": "code",
   "execution_count": 130,
   "id": "dominant-tuition",
   "metadata": {
    "scrolled": true
   },
   "outputs": [],
   "source": [
    "    \n",
    "POINTS_D = {(0, -1) : \"L\",\n",
    "            (0, 1) : \"R\",\n",
    "            (1, 0) : \"D\",\n",
    "            (-1,0) : \"U\"}\n",
    "for point1 in clusters.keys():\n",
    "    for point2 in clusters[point1].keys():\n",
    "        point1_to_point2 = clusters[point1][point2]\n",
    "        \n",
    "        path = \"\"\n",
    "        for i in range(len(point1_to_point2) - 1):\n",
    "            x1, y1 = point1_to_point2[i]\n",
    "            x2, y2 = point1_to_point2[i+1]\n",
    "            path += POINTS_D[(x2 - x1, y2 - y1)]\n",
    "        clusters[point1][point2] = path\n",
    "\n",
    "with open('new_clusters.py', 'w') as f:\n",
    "    print('clusters = ', clusters, file=f)"
   ]
  },
  {
   "cell_type": "markdown",
   "id": "exterior-particular",
   "metadata": {},
   "source": [
    "# Оптимизация кластеров"
   ]
  },
  {
   "cell_type": "code",
   "execution_count": 48,
   "id": "australian-economy",
   "metadata": {},
   "outputs": [],
   "source": [
    "new_clusters = copy.deepcopy(clusters)\n",
    "for point1 in new_clusters.keys():\n",
    "\tfor point2 in new_clusters[point1].keys():\n",
    "\t\tif new_clusters[point1][point2] != \"\" and new_clusters[point2][point1] != \"\":\n",
    "\t\t\tnew_clusters[point2][point1] = \"\"\n",
    "\n",
    "with open('new_clusters.py', 'w') as f:\n",
    "    print('clusters = ', new_clusters, file=f)"
   ]
  },
  {
   "cell_type": "markdown",
   "id": "amber-impact",
   "metadata": {},
   "source": [
    "# Обработка заказов"
   ]
  },
  {
   "cell_type": "code",
   "execution_count": 131,
   "id": "polished-clearing",
   "metadata": {
    "scrolled": true
   },
   "outputs": [
    {
     "name": "stdout",
     "output_type": "stream",
     "text": [
      "467760\n",
      "467760\n",
      "0\n",
      "CPU times: user 5.23 s, sys: 3.89 ms, total: 5.23 s\n",
      "Wall time: 5.26 s\n"
     ]
    }
   ],
   "source": [
    "%%time\n",
    "LIMIT = 1000\n",
    "\n",
    "\n",
    "count = 0\n",
    "banned = set()\n",
    "for start_order, end_order in raw_orders[:]:\n",
    "    if start_order not in banned:\n",
    "        _, start_cluster = find_beacon(start_order, raw_clusters, cells, limit = LIMIT)\n",
    "        _, end_cluster = find_beacon(end_order, raw_clusters, cells, limit = LIMIT)\n",
    "        if start_cluster and end_cluster:\n",
    "            count += 1\n",
    "        else:\n",
    "            banned.add(start_order)\n",
    "        \n",
    "\n",
    "\n",
    "print(len(raw_orders))\n",
    "print(count)\n",
    "print(len(banned))\n"
   ]
  },
  {
   "cell_type": "code",
   "execution_count": 154,
   "id": "differential-standing",
   "metadata": {},
   "outputs": [],
   "source": [
    "def show_paths(R, robots):\n",
    "    paths = [\"\"] * R\n",
    "    \n",
    "    for robot in robots:\n",
    "        path_60  = robot.get_path()\n",
    "        paths[robot.idx] += path_60\n",
    "\n",
    "    #for path in paths:\n",
    "    #    print(path)\n",
    "        \n",
    "        \n",
    "\n",
    "class Robot:\n",
    "    def __init__(self, idx, cell):\n",
    "        self.idx = idx #Его индекс\n",
    "        self.path = \"\" #Его путь\n",
    "        self.iter = 0\n",
    "        self.position = cell\n",
    "\n",
    "\n",
    "    def get_path(self):\n",
    "        cur_path = self.path[self.iter:self.iter+60]\n",
    "        self.iter += 60\n",
    "        if len(cur_path) < 60:\n",
    "            \n",
    "            self.path = \"\"\n",
    "            self.iter = 0\n",
    "            cur_path += \"S\" * (60 - len(cur_path))\n",
    "            chill_robots.append(self.idx)\n",
    "\n",
    "        return cur_path"
   ]
  },
  {
   "cell_type": "code",
   "execution_count": 148,
   "id": "municipal-emphasis",
   "metadata": {},
   "outputs": [],
   "source": [
    "class Order:\n",
    "    def __init__(self, start, end, iter_start):\n",
    "        self.start = start\n",
    "        self.end = end\n",
    "        self.iter_start = iter_start #Время появления заказа\n",
    "\n",
    "        self.beacon_to_start = None\n",
    "        self.start_to_beacon = None\n",
    "        self.beacon_to_end = None\n",
    "        self.end_to_beacon = None\n",
    "        self.cluster_start = None\n",
    "        self.cluster_end = None\n",
    "        \n",
    "        \n",
    "        self.dilevery_time = 0\n",
    "        \n",
    "        self.path = \"\"\n",
    "        \n",
    "        \n",
    "    \n",
    "    def build_path(self):\n",
    "        \n",
    "        \n",
    "                \n",
    "        self.path += self.beacon_to_start\n",
    "        self.path += \"T\" \n",
    "        self.path += self.start_to_beacon\n",
    "        \n",
    "        self.path += clusters_to_center[self.cluster_start]\n",
    "        self.path += center_to_clusters[self.cluster_end]\n",
    "    \n",
    "        self.path += self.beacon_to_end\n",
    "        \n",
    "        self.dilevery_time += len(self.path)\n",
    "        \n",
    "        \n",
    "        self.path += \"P\"\n",
    "        \n",
    "        self.path += self.end_to_beacon\n",
    "\n",
    "        \n",
    "        return self.path  \n",
    "    \n",
    "    \n",
    "    def calculate_tip(self, MaxTip, cur_iteration):\n",
    "        t = 0\n",
    "        t += (cur_iteration - self.iter_start) * 60\n",
    "        t += self.dilevery_time\n",
    "        \n",
    "        return max(0, MaxTip - t)"
   ]
  },
  {
   "cell_type": "code",
   "execution_count": 149,
   "id": "center-superior",
   "metadata": {
    "scrolled": true
   },
   "outputs": [
    {
     "name": "stdout",
     "output_type": "stream",
     "text": [
      "101\n",
      "101\n"
     ]
    }
   ],
   "source": [
    "print(len(raw_clusters))\n",
    "print(len(orders))"
   ]
  },
  {
   "cell_type": "code",
   "execution_count": 150,
   "id": "tutorial-assessment",
   "metadata": {},
   "outputs": [],
   "source": [
    "with open('clusters_to_center.py', 'w') as f:\n",
    "    print(\"clusters_to_center =\", clusters_to_center,  file=f)\n",
    "    print(\"center_to_clusters =\", center_to_clusters, file = f)"
   ]
  },
  {
   "cell_type": "code",
   "execution_count": 162,
   "id": "arranged-country",
   "metadata": {
    "scrolled": true
   },
   "outputs": [
    {
     "name": "stdout",
     "output_type": "stream",
     "text": [
      "70\n",
      "329401301\n",
      "375930\n",
      "CPU times: user 14.3 s, sys: 31.7 ms, total: 14.3 s\n",
      "Wall time: 14.5 s\n"
     ]
    }
   ],
   "source": [
    "%%time\n",
    "#%%capture\n",
    "# Получение заказов\n",
    "with open('sdc_meetup_2021_tests/09', 'r') as f:\n",
    "    EARNINGS = 0\n",
    "    DELIVERED = 0\n",
    "    \n",
    "    N, MaxTips, Cost = map(int, f.readline().split())\n",
    "    \n",
    "    board = []\n",
    "    for i in range(N):\n",
    "        line = f.readline().strip()\n",
    "        board.append(line)\n",
    "    \n",
    "    T, D = map(int, f.readline().split())\n",
    "    \n",
    "    \n",
    "    #ROBOTS#############################\n",
    "    \n",
    "    R = 70 # Количество роботов\n",
    "    LIMIT = 10000\n",
    "    \n",
    "    \n",
    "    EARNINGS -= Cost * R\n",
    "    print(R, flush = True)\n",
    "\n",
    "    random_clusters = random.sample(raw_clusters, R//2) + random.sample(raw_clusters, R//2)\n",
    "    \n",
    "    robots = [Robot(idx, cell) for idx, cell in enumerate(random_clusters)]\n",
    "\n",
    "    chill_robots = deque(list(range(R)))\n",
    "    \n",
    "    \n",
    "    for robot in robots:\n",
    "        x, y = robot.position\n",
    "        #print(cell[0]+1, cell[1]+1, flush = True)\n",
    "        \n",
    "\n",
    "    \n",
    "    #ANCHORS PART:\n",
    "    cells = set()\n",
    "    for x in range(N):\n",
    "        for y in range(N):\n",
    "            if board[x][y] == \".\":\n",
    "                cells.add((x,y))  \n",
    "\n",
    "    \n",
    "    #ORDERS:\n",
    "    orders = {cell : deque() for cell in raw_clusters}\n",
    "    \n",
    "    orders_to_clusters = {}\n",
    "    \n",
    "    \n",
    "   \n",
    "    for i in range(T):\n",
    "        \n",
    "        \n",
    "        k = int(f.readline())\n",
    "        for j in range(k):\n",
    "            x1, y1, x2, y2 = map(int, f.readline().split())\n",
    "            order_start = (x1 - 1, y1 - 1)\n",
    "            order_end = (x2 - 1, y2 - 1)\n",
    "\n",
    "            if order_start in orders_to_clusters:\n",
    "                path_start, cluster_start = orders_to_clusters[order_start]\n",
    "            else:\n",
    "                path_start, cluster_start = find_beacon(order_start, raw_clusters, cells, limit = LIMIT)\n",
    "                orders_to_clusters[order_start] = (path_start, cluster_start)\n",
    "                \n",
    "            if order_end in orders_to_clusters:\n",
    "                path_end, cluster_end = orders_to_clusters[order_end]\n",
    "            else:\n",
    "                path_end, cluster_end = find_beacon(order_end, raw_clusters, cells, limit = LIMIT)\n",
    "                orders_to_clusters[order_end] = (path_end, cluster_end)\n",
    "                \n",
    "            \n",
    "            order = Order(order_start, order_end, i + 1)\n",
    "    \n",
    "            order.start_to_beacon = path_start\n",
    "            order.beacon_to_start = reverse_path(path_start)\n",
    "            order.end_to_beacon = path_end\n",
    "            order.beacon_to_end = reverse_path(path_end)\n",
    "            order.cluster_start = cluster_start\n",
    "            order.cluster_end = cluster_end\n",
    "            \n",
    "            \n",
    "            \n",
    "            orders[cluster_start].append(order)\n",
    "        \n",
    "\n",
    "            \n",
    "        \n",
    "        #Для каждого робота проверить, есть ли заказ\n",
    "        #print(chill_robots)\n",
    "        while chill_robots:\n",
    "            robot_idx = chill_robots.popleft()\n",
    "            robot = robots[robot_idx]\n",
    "            \n",
    "            START_POSITION = robot.position\n",
    "        \n",
    "        \n",
    "            if orders[robot.position]:\n",
    "\n",
    "                order = orders[robot.position].popleft()\n",
    "\n",
    "                robot.path = order.build_path()\n",
    "                robot.position = order.cluster_end\n",
    "\n",
    "\n",
    "                #INFO\n",
    "                DELIVERED += 1\n",
    "                EARNINGS += order.calculate_tip(MaxTips, i + 1)\n",
    "\n",
    "                #CHECKER(board, START_POSITION, robot.position, robot.path, order.start, order.end)\n",
    "\n",
    "            else:\n",
    "                #if decision(0.43):\n",
    "                    #Посылаем в рандомный cell\n",
    "                    random_cluster = random.sample(raw_clusters, 1)[0]\n",
    "\n",
    "\n",
    "                    #robot.path = clusters[robot.position][random_cluster]\n",
    "                    robot.path =  clusters_to_center[robot.position] + center_to_clusters[random_cluster]\n",
    "                    robot.position = random_cluster\n",
    "\n",
    "                    #       Поле   Начало          Конец\n",
    "                    #CHECKER(board, START_POSITION, robot.position, robot.path)\n",
    "                \n",
    "               \n",
    " \n",
    "            \n",
    "        show_paths(R, robots)\n",
    "        \n",
    "        \n",
    "print(EARNINGS)\n",
    "print(DELIVERED)"
   ]
  },
  {
   "cell_type": "markdown",
   "id": "legendary-comparison",
   "metadata": {},
   "source": [
    "#Before orders optimization 22.2s"
   ]
  },
  {
   "cell_type": "markdown",
   "id": "transparent-royal",
   "metadata": {},
   "source": [
    "x = 532 - 1\n",
    "y = 553 - 1\n",
    "#LDDDDLLLLLLULLULLULLULLULLULLLUULLLLLLLLLLLLLLLLLLULLLULLULU\n",
    "\n",
    "def replace_str_index(text, index, replacement):\n",
    "    return '%s%s%s'%(text[:index],replacement,text[index+1:])\n",
    "\n",
    "board[x] = replace_str_index(board[x], y, \"$\")\n",
    "\n",
    "for i in range(515, 540):\n",
    "    print(board[i][520:560])\n",
    "\n",
    "    "
   ]
  },
  {
   "cell_type": "code",
   "execution_count": 231,
   "id": "regulated-fruit",
   "metadata": {},
   "outputs": [
    {
     "name": "stdout",
     "output_type": "stream",
     "text": [
      "[348, 511]\n",
      "DRRRRRRRUURUURUUUURRUURUURUUUUULULLULLUUUULULLUULLLULULLULLU\n"
     ]
    },
    {
     "ename": "ValueError",
     "evalue": "WALL",
     "output_type": "error",
     "traceback": [
      "\u001b[0;31m---------------------------------------------------------------------------\u001b[0m",
      "\u001b[0;31mValueError\u001b[0m                                Traceback (most recent call last)",
      "\u001b[0;32m<ipython-input-231-d5e5a993a9d0>\u001b[0m in \u001b[0;36m<module>\u001b[0;34m\u001b[0m\n\u001b[1;32m      1\u001b[0m \u001b[0mp\u001b[0m \u001b[0;34m=\u001b[0m \u001b[0;34m\"DRRRRRRRUURUURUUUURRUURUURUUUUULULLULLUUUULULLUULLLULULLULLU\"\u001b[0m\u001b[0;34m\u001b[0m\u001b[0;34m\u001b[0m\u001b[0m\n\u001b[0;32m----> 2\u001b[0;31m \u001b[0mCHECKER\u001b[0m\u001b[0;34m(\u001b[0m\u001b[0mboard\u001b[0m\u001b[0;34m,\u001b[0m \u001b[0;34m(\u001b[0m\u001b[0;36m374\u001b[0m\u001b[0;34m,\u001b[0m \u001b[0;36m509\u001b[0m\u001b[0;34m)\u001b[0m\u001b[0;34m,\u001b[0m \u001b[0;34m(\u001b[0m\u001b[0;36m0\u001b[0m\u001b[0;34m,\u001b[0m\u001b[0;36m0\u001b[0m\u001b[0;34m)\u001b[0m\u001b[0;34m,\u001b[0m \u001b[0mp\u001b[0m\u001b[0;34m)\u001b[0m\u001b[0;34m\u001b[0m\u001b[0;34m\u001b[0m\u001b[0m\n\u001b[0m",
      "\u001b[0;32m<ipython-input-230-ea0c0dd62806>\u001b[0m in \u001b[0;36mCHECKER\u001b[0;34m(board, start_position, end_position, path, order_start, order_end)\u001b[0m\n\u001b[1;32m     48\u001b[0m         \u001b[0mprint\u001b[0m\u001b[0;34m(\u001b[0m\u001b[0mPROBLEM\u001b[0m\u001b[0;34m)\u001b[0m\u001b[0;34m\u001b[0m\u001b[0;34m\u001b[0m\u001b[0m\n\u001b[1;32m     49\u001b[0m         \u001b[0mprint\u001b[0m\u001b[0;34m(\u001b[0m\u001b[0mpath\u001b[0m\u001b[0;34m)\u001b[0m\u001b[0;34m\u001b[0m\u001b[0;34m\u001b[0m\u001b[0m\n\u001b[0;32m---> 50\u001b[0;31m         \u001b[0;32mraise\u001b[0m \u001b[0mValueError\u001b[0m\u001b[0;34m(\u001b[0m\u001b[0mresult\u001b[0m\u001b[0;34m)\u001b[0m\u001b[0;34m\u001b[0m\u001b[0;34m\u001b[0m\u001b[0m\n\u001b[0m",
      "\u001b[0;31mValueError\u001b[0m: WALL"
     ]
    }
   ],
   "source": [
    "p = \"\"\n",
    "CHECKER(board, (374, 509), (0,0), p)"
   ]
  },
  {
   "cell_type": "code",
   "execution_count": 73,
   "id": "surface-apache",
   "metadata": {},
   "outputs": [],
   "source": [
    "def draw_path(points, PROBLEM):\n",
    "    image = copy.deepcopy(IMG)\n",
    "    for x, y in points:\n",
    "        image[x][y] = [255, 0, 0]\n",
    "    \n",
    "    x, y = PROBLEM\n",
    "    image[x][y] = [0, 0, 255]\n",
    "    \n",
    "    new_image = Image.fromarray(image, \"RGB\") \n",
    "    new_image.save('ERROR.png')\n",
    "\n",
    "ACTION_D = {\"U\" : (-1, 0),\n",
    "            \"D\" : (1, 0),\n",
    "            \"R\" : (0, 1),\n",
    "            \"L\" : (0, -1)}\n",
    "\n",
    "def CHECKER(board, start_position, end_position, path, order_start = None, order_end = None):\n",
    "    result = None\n",
    "    \n",
    "    x, y = start_position\n",
    "    POINTS = [[x,y]]\n",
    "    PROBLEM = order_start\n",
    "    for action in path:\n",
    "        if action == \"U\":\n",
    "            x -= 1\n",
    "        elif action == \"D\":\n",
    "            x += 1\n",
    "        elif action == \"R\":\n",
    "            y += 1\n",
    "        elif action == \"L\":\n",
    "            y -= 1\n",
    "        POINTS.append([x,y])\n",
    "\n",
    "        if board[x][y] == \"#\":\n",
    "            PROBLEM = [x,y]\n",
    "            result = 'WALL'\n",
    "        \n",
    "        elif action == \"T\" and order_start != (x, y):\n",
    "            PROBLEM = [x,y]\n",
    "            result = \"NO PACKAGE\"\n",
    "            \n",
    "        elif action == \"P\" and order_end != (x, y):\n",
    "            PROBLEM = [x,y]\n",
    "            result = \"NO PLACE TO DELIVER\"\n",
    "    \n",
    "    if (x, y) != end_position:\n",
    "        PROBLEM = [x,y]\n",
    "        result = \"DIDN'T REACH DESTINATION\"\n",
    "            \n",
    "    #if result is not None:\n",
    "    if result:\n",
    "        draw_path(POINTS, PROBLEM)\n",
    "        print(PROBLEM)\n",
    "        print(path)\n",
    "        raise ValueError(result)"
   ]
  },
  {
   "cell_type": "markdown",
   "id": "advanced-chess",
   "metadata": {},
   "source": [
    "## Путь\n",
    "\n",
    "*Кластер -> заказ_старт -> кластер -> заказ_финиш -> кластер*"
   ]
  },
  {
   "cell_type": "markdown",
   "id": "vertical-moore",
   "metadata": {},
   "source": [
    "# Аналитика"
   ]
  },
  {
   "cell_type": "code",
   "execution_count": 251,
   "id": "fitted-gathering",
   "metadata": {},
   "outputs": [
    {
     "ename": "NameError",
     "evalue": "name 'clusters' is not defined",
     "output_type": "error",
     "traceback": [
      "\u001b[0;31m---------------------------------------------------------------------------\u001b[0m",
      "\u001b[0;31mNameError\u001b[0m                                 Traceback (most recent call last)",
      "\u001b[0;32m<ipython-input-251-cc84a7ef3434>\u001b[0m in \u001b[0;36m<module>\u001b[0;34m\u001b[0m\n\u001b[1;32m     13\u001b[0m             \u001b[0mimage\u001b[0m\u001b[0;34m[\u001b[0m\u001b[0mx\u001b[0m\u001b[0;34m+\u001b[0m\u001b[0mdx\u001b[0m\u001b[0;34m*\u001b[0m\u001b[0;36m2\u001b[0m\u001b[0;34m]\u001b[0m\u001b[0;34m[\u001b[0m\u001b[0my\u001b[0m\u001b[0;34m+\u001b[0m\u001b[0mdy\u001b[0m\u001b[0;34m*\u001b[0m\u001b[0;36m2\u001b[0m\u001b[0;34m]\u001b[0m \u001b[0;34m=\u001b[0m \u001b[0;34m[\u001b[0m\u001b[0;36m50\u001b[0m\u001b[0;34m,\u001b[0m \u001b[0;36m255\u001b[0m\u001b[0;34m,\u001b[0m \u001b[0;36m255\u001b[0m\u001b[0;34m]\u001b[0m\u001b[0;34m\u001b[0m\u001b[0;34m\u001b[0m\u001b[0m\n\u001b[1;32m     14\u001b[0m \u001b[0;34m\u001b[0m\u001b[0m\n\u001b[0;32m---> 15\u001b[0;31m \u001b[0mdraw_points\u001b[0m\u001b[0;34m(\u001b[0m\u001b[0mclusters\u001b[0m\u001b[0;34m)\u001b[0m\u001b[0;34m\u001b[0m\u001b[0;34m\u001b[0m\u001b[0m\n\u001b[0m",
      "\u001b[0;31mNameError\u001b[0m: name 'clusters' is not defined"
     ]
    }
   ],
   "source": [
    "def draw_points(points):\n",
    "    for point in points.values():\n",
    "        for path in point.values():\n",
    "            if path:\n",
    "                print(path)\n",
    "                for x, y in path:\n",
    "                    image[x][y][0] += 100\n",
    "    \n",
    "    for point in points.keys():\n",
    "        x, y = point\n",
    "        for dx, dy in [[0, -1],[0,1],[1,0],[-1,0],[1,1],[1,-1],[-1,1],[-1,-1]]:\n",
    "            image[x+dx][y+dy] = [50, 255, 255]\n",
    "            image[x+dx*2][y+dy*2] = [50, 255, 255]\n",
    "\n",
    "draw_points(clusters)"
   ]
  },
  {
   "cell_type": "markdown",
   "id": "falling-blues",
   "metadata": {},
   "source": [
    "05. Среднее растояние от пункта выдачи, до пункта доставки заказа ~682\n",
    "08. 531"
   ]
  },
  {
   "cell_type": "markdown",
   "id": "asian-token",
   "metadata": {},
   "source": [
    "1. Показать кластеры\n",
    "\n",
    "2. Среднее попарное расстояние\n",
    "\n",
    "3. Среднее расстояние кластер -> центр -> кластер\n",
    "\n",
    "4. нарисовать и тот и другой способ. Анимация\n",
    "\n"
   ]
  }
 ],
 "metadata": {
  "kernelspec": {
   "display_name": "Python 3",
   "language": "python",
   "name": "python3"
  },
  "language_info": {
   "codemirror_mode": {
    "name": "ipython",
    "version": 3
   },
   "file_extension": ".py",
   "mimetype": "text/x-python",
   "name": "python",
   "nbconvert_exporter": "python",
   "pygments_lexer": "ipython3",
   "version": "3.7.5"
  }
 },
 "nbformat": 4,
 "nbformat_minor": 5
}
